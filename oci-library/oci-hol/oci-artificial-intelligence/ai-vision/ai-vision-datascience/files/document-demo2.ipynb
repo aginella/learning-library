{
 "cells": [
  {
   "cell_type": "markdown",
   "id": "a564bbad",
   "metadata": {},
   "source": [
    "# <b>Document AI features demo 2</b>"
   ]
  },
  {
   "cell_type": "markdown",
   "id": "b039662b",
   "metadata": {},
   "source": [
    "The AIServiceVisionClient offers the <b>document classification</b>, <b>language classification</b> and <b>table detection</b> features. This notebook aims to provide overall clarity about the feature to the user in terms of requirements, usage and the output of the API.<br>\n",
    "<ul>\n",
    "    <li>The raw output is saved as <code>response_document_demo2.json</code> file. </li>\n",
    "    <li>The detected tables are printed under <b> Display the detected tables</b> section.</li>\n",
    "    <li>Document classes and detected language codes are printed in descending order of their confidence levels in the last section of the notebook. The language codes follow the ISO 639-2 standard.</li>\n",
    "    <li>The user can visualize the bounding boxes for the detected tables under <b>View output document with bounding boxes</b> section. </li>\n",
    "</ul>"
   ]
  },
  {
   "cell_type": "markdown",
   "id": "14f3cb8e",
   "metadata": {},
   "source": [
    "### Steps to run the notebook:\n",
    "<details>\n",
    "    <summary>Notebook session setup</summary>\n",
    "    <ol>\n",
    "        <li><font size=\"2\">Installing the OCI Vision SDK</font></li>\n",
    "        <li><font size=\"2\">Installing other dependencies</font></li>\n",
    "        <li><font size=\"2\">Setup sample input documents</font></li>\n",
    "        <li><font size=\"2\">Setup helper .py files</font></li>\n",
    "        <li><font size=\"2\">Create output folder</font></li>\n",
    "    </ol>\n",
    "</details>\n",
    "\n",
    "<details>\n",
    "    <summary>Importing the required modules</summary>\n",
    "</details>\n",
    "\n",
    "<details>\n",
    "    <summary>Setting the input variables</summary>\n",
    "     <font size=\"2\">The user can change the input variables, if necessary. They have been assigned default values.</font>\n",
    "</details>\n",
    "\n",
    "<details>\n",
    "    <summary>Running the main pipeline</summary>\n",
    "    <font size=\"2\">Run all cells to get the output in the <code>output</code> directory. </font><br>\n",
    "</details>"
   ]
  },
  {
   "cell_type": "markdown",
   "id": "f7b84303",
   "metadata": {},
   "source": [
    "### Notebook session setup\n",
    "<details>\n",
    "    <summary>Instructions</summary>\n",
    "    <ul>\n",
    "        <li><font size=\"2\">The user needs to setup only once.</font></li>\n",
    "        <li><font size=\"2\">Uncomment the commented cells and run once to setup.</font></li>\n",
    "        <li><font size=\"2\">Comment back the same cells to avoid running again.</font></li>\n",
    "    </ul>\n",
    "</details>"
   ]
  },
  {
   "cell_type": "markdown",
   "id": "2afd3822",
   "metadata": {},
   "source": [
    "#### Installing the OCI Vision SDK"
   ]
  },
  {
   "cell_type": "code",
   "execution_count": null,
   "id": "0155c264",
   "metadata": {},
   "outputs": [],
   "source": [
    "# !wget \"https://objectstorage.us-ashburn-1.oraclecloud.com/n/axhheqi2ofpb/b/vision-demo-notebooks/o/vision_service_python_client-0.3.45-py2.py3-none-any.whl\"\n",
    "# !pip install vision_service_python_client-0.3.45-py2.py3-none-any.whl\n",
    "# !rm vision_service_python_client-0.3.45-py2.py3-none-any.whl"
   ]
  },
  {
   "cell_type": "markdown",
   "id": "1a89509c",
   "metadata": {},
   "source": [
    "#### Installing other dependencies"
   ]
  },
  {
   "cell_type": "code",
   "execution_count": null,
   "id": "f9fd292f",
   "metadata": {},
   "outputs": [],
   "source": [
    "# !pip install matplotlib==3.3.4\n",
    "# !pip install pandas==1.1.5\n",
    "# !pip install fitz==0.0.1.dev2\n",
    "# !pip install pymupdf==1.18.19"
   ]
  },
  {
   "cell_type": "markdown",
   "id": "9ace2a72",
   "metadata": {},
   "source": [
    "#### Setup sample input documents"
   ]
  },
  {
   "cell_type": "code",
   "execution_count": null,
   "id": "b203bc7e",
   "metadata": {},
   "outputs": [],
   "source": [
    "# !wget \"https://objectstorage.us-ashburn-1.oraclecloud.com/n/axhheqi2ofpb/b/vision-demo-notebooks/o/TextDetectionOnePage.pdf\"\n",
    "# !wget \"https://objectstorage.us-ashburn-1.oraclecloud.com/n/axhheqi2ofpb/b/vision-demo-notebooks/o/table.pdf\"\n",
    "# !mkdir data\n",
    "# !mv TextDetectionOnePage.pdf data\n",
    "# !mv table.pdf data"
   ]
  },
  {
   "cell_type": "markdown",
   "id": "fd4d991b",
   "metadata": {},
   "source": [
    "#### Setup helper .py files"
   ]
  },
  {
   "cell_type": "code",
   "execution_count": null,
   "id": "7564bf4b",
   "metadata": {},
   "outputs": [],
   "source": [
    "# !wget \"https://objectstorage.us-ashburn-1.oraclecloud.com/n/axhheqi2ofpb/b/vision-demo-notebooks/o/analyze_document_utils.py\"\n",
    "# !mkdir helper\n",
    "# !mv analyze_document_utils.py helper"
   ]
  },
  {
   "cell_type": "markdown",
   "id": "01944321",
   "metadata": {},
   "source": [
    "#### Create output folder"
   ]
  },
  {
   "cell_type": "code",
   "execution_count": null,
   "id": "25d235cd",
   "metadata": {},
   "outputs": [],
   "source": [
    "# !mkdir output"
   ]
  },
  {
   "cell_type": "markdown",
   "id": "2824f38b",
   "metadata": {},
   "source": [
    "### Imports"
   ]
  },
  {
   "cell_type": "code",
   "execution_count": null,
   "id": "6fc8967b",
   "metadata": {},
   "outputs": [],
   "source": [
    "import base64\n",
    "import os\n",
    "import io\n",
    "import oci\n",
    "import json\n",
    "from IPython.display import IFrame\n",
    "import requests\n",
    "import pandas as pd\n",
    "import numpy as np\n",
    "\n",
    "from vision_service_python_client.ai_service_vision_client import AIServiceVisionClient\n",
    "from vision_service_python_client.models.analyze_document_details import AnalyzeDocumentDetails\n",
    "from vision_service_python_client.models.inline_document_details import InlineDocumentDetails\n",
    "from vision_service_python_client.models.document_table_detection_feature import DocumentTableDetectionFeature\n",
    "from vision_service_python_client.models.document_classification_feature import DocumentClassificationFeature\n",
    "from vision_service_python_client.models.document_language_classification_feature import DocumentLanguageClassificationFeature\n",
    "\n",
    "from helper.analyze_document_utils import is_url, clean_output, display_classes"
   ]
  },
  {
   "cell_type": "markdown",
   "id": "c23d521a",
   "metadata": {},
   "source": [
    "### Set input variables\n",
    "<details>\n",
    "<summary><font size=\"3\">input_path</font></summary>\n",
    "<font size=\"2\">The user can provide the document URL or filepath from the notebook session.</font><br>\n",
    "</details>\n",
    "<details>\n",
    "<summary><font size=\"3\">max_results</font></summary>\n",
    "    <font size=\"2\">Provide the maximum number of results needed for document classification and language classification. This is an upper limit over the output classes, the API may detect lesser classes according to the document.</font><br>\n",
    "</details>"
   ]
  },
  {
   "cell_type": "code",
   "execution_count": null,
   "id": "d046f1e5",
   "metadata": {},
   "outputs": [],
   "source": [
    "input_path = \"data/table.pdf\"\n",
    "max_results = 5"
   ]
  },
  {
   "cell_type": "markdown",
   "id": "d8416f68",
   "metadata": {},
   "source": [
    "### Authorize user config"
   ]
  },
  {
   "cell_type": "code",
   "execution_count": null,
   "id": "78bb07ac",
   "metadata": {},
   "outputs": [],
   "source": [
    "config = oci.config.from_file('~/.oci/config')"
   ]
  },
  {
   "cell_type": "markdown",
   "id": "ca8a6c81",
   "metadata": {},
   "source": [
    "### Get input document"
   ]
  },
  {
   "cell_type": "code",
   "execution_count": null,
   "id": "b1daeb25",
   "metadata": {},
   "outputs": [],
   "source": [
    "if is_url(input_path):\n",
    "    file_content = requests.get(input_path).content\n",
    "    encoded_string = base64.b64encode(file_content)\n",
    "    open('data/' + os.path.basename(input_path), 'wb').write(file_content)\n",
    "else:\n",
    "    with open(input_path, \"rb\") as document_file:\n",
    "        encoded_string = base64.b64encode(document_file.read())"
   ]
  },
  {
   "cell_type": "markdown",
   "id": "5981759a",
   "metadata": {},
   "source": [
    "### View input document"
   ]
  },
  {
   "cell_type": "code",
   "execution_count": null,
   "id": "a3b96a57",
   "metadata": {},
   "outputs": [],
   "source": [
    "if is_url(input_path):\n",
    "    display(IFrame('data/' + os.path.basename(input_path), width=600, height=500))\n",
    "else:\n",
    "    display(IFrame(input_path, width=600, height=500))"
   ]
  },
  {
   "cell_type": "markdown",
   "id": "e5d66127",
   "metadata": {},
   "source": [
    "### Create AI service vision client and get response object"
   ]
  },
  {
   "cell_type": "code",
   "execution_count": null,
   "id": "def810bc",
   "metadata": {},
   "outputs": [],
   "source": [
    "ai_service_vision_client = AIServiceVisionClient(config=config)\n",
    "analyze_document_details = AnalyzeDocumentDetails()\n",
    "inline_document_details = InlineDocumentDetails()\n",
    "\n",
    "table_detection_feature = DocumentTableDetectionFeature()\n",
    "document_classification_feature = DocumentClassificationFeature()\n",
    "document_classification_feature.max_results = max_results\n",
    "document_language_classification_feature = DocumentLanguageClassificationFeature()\n",
    "document_language_classification_feature.max_results = max_results\n",
    "\n",
    "features = [table_detection_feature, document_classification_feature, document_language_classification_feature]\n",
    "inline_document_details.data = encoded_string.decode('utf-8')\n",
    "analyze_document_details.document = inline_document_details\n",
    "analyze_document_details.features = features\n",
    "\n",
    "res = ai_service_vision_client.analyze_document(analyze_document_details=analyze_document_details)"
   ]
  },
  {
   "cell_type": "markdown",
   "id": "eb4fccb1",
   "metadata": {},
   "source": [
    "### Clean and save the API response as json"
   ]
  },
  {
   "cell_type": "code",
   "execution_count": null,
   "id": "4f6e09f1",
   "metadata": {},
   "outputs": [],
   "source": [
    "res_json = json.loads(repr(res.data))\n",
    "clean_res = clean_output(res_json)\n",
    "\n",
    "with open('output/response_document_demo2.json', 'w') as fp:\n",
    "    json.dump(clean_res, fp)"
   ]
  },
  {
   "cell_type": "markdown",
   "id": "8596679f",
   "metadata": {},
   "source": [
    "### Display the detected tables"
   ]
  },
  {
   "cell_type": "code",
   "execution_count": null,
   "id": "7b73649a",
   "metadata": {},
   "outputs": [],
   "source": [
    "df = None\n",
    "\n",
    "for page in clean_res['pages']:\n",
    "    if 'tables' not in page:\n",
    "        continue\n",
    "    for table in page['tables']:\n",
    "        df = pd.DataFrame(index=np.arange(int(table['row_count'])+1), columns=np.arange(int(table['column_count'])+1)).fillna('')\n",
    "        if 'body_rows' not in table:\n",
    "            continue\n",
    "            \n",
    "        for row in table['body_rows']:\n",
    "            if 'cells' not in row:\n",
    "                continue\n",
    "                \n",
    "            for cell in row['cells']:\n",
    "                row_no = int(cell['row_index'])\n",
    "                col_no = int(cell['column_index'])\n",
    "                text = cell['text']\n",
    "                df.iloc[row_no,col_no] = text\n",
    "        display(df.style.hide_index())"
   ]
  },
  {
   "cell_type": "markdown",
   "id": "48c0b2c7",
   "metadata": {},
   "source": [
    "### Display the document types with their confidence levels"
   ]
  },
  {
   "cell_type": "code",
   "execution_count": null,
   "id": "3767f806",
   "metadata": {},
   "outputs": [],
   "source": [
    "if 'detected_document_types' in clean_res:\n",
    "    display_classes(clean_res['detected_document_types'], 'Document Type')"
   ]
  },
  {
   "cell_type": "markdown",
   "id": "8f7e6713",
   "metadata": {},
   "source": [
    "### Display the document language codes with their confidence levels"
   ]
  },
  {
   "cell_type": "code",
   "execution_count": null,
   "id": "e3ab35d8",
   "metadata": {},
   "outputs": [],
   "source": [
    "if 'detected_languages' in clean_res:\n",
    "    display_classes(clean_res['detected_languages'], 'Language Code')"
   ]
  },
  {
   "cell_type": "markdown",
   "id": "d044dfb3",
   "metadata": {},
   "source": [
    "### View output document with bounding boxes\n",
    "\n",
    "The user can run the cells below to visualize the bounding boxes over the document. This visualization feature is currently supported for <b>PDF format only.</b>"
   ]
  },
  {
   "cell_type": "markdown",
   "id": "fdb02e03",
   "metadata": {},
   "source": [
    "#### Imports"
   ]
  },
  {
   "cell_type": "code",
   "execution_count": null,
   "id": "ab1d7efa",
   "metadata": {},
   "outputs": [],
   "source": [
    "from helper.analyze_document_utils import add_table_bounding_boxes_to_pdf\n",
    "import fitz"
   ]
  },
  {
   "cell_type": "markdown",
   "id": "170afcaf",
   "metadata": {},
   "source": [
    "#### Add bounding boxes"
   ]
  },
  {
   "cell_type": "code",
   "execution_count": null,
   "id": "6fc0ebfc",
   "metadata": {},
   "outputs": [],
   "source": [
    "doc = fitz.open(input_path)\n",
    "doc = add_table_bounding_boxes_to_pdf(doc, clean_res)\n",
    "output_path = 'output/' + 'output_' + os.path.basename(input_path)\n",
    "doc.save(output_path)"
   ]
  },
  {
   "cell_type": "markdown",
   "id": "6fc18f9e",
   "metadata": {},
   "source": [
    "#### Display output document"
   ]
  },
  {
   "cell_type": "code",
   "execution_count": null,
   "id": "49a44d24",
   "metadata": {},
   "outputs": [],
   "source": [
    "display(IFrame(output_path, width=600, height=500))"
   ]
  }
 ],
 "metadata": {
  "kernelspec": {
   "display_name": "Python 3",
   "language": "python",
   "name": "python3"
  },
  "language_info": {
   "codemirror_mode": {
    "name": "ipython",
    "version": 3
   },
   "file_extension": ".py",
   "mimetype": "text/x-python",
   "name": "python",
   "nbconvert_exporter": "python",
   "pygments_lexer": "ipython3",
   "version": "3.6.10"
  }
 },
 "nbformat": 4,
 "nbformat_minor": 5
}
